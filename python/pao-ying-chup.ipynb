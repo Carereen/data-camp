import random

def pao_ying_chup():
    print("pao ying chulp game")
    username = input("your name: ")
    print(f"Hello {username}, Welcome to pao ying chup game.")
    print("Ready!")

    hands = ["hammer", "scissor", "paper"]
    player_point = 0
    bot_point = 0

    game = 0
    while game < 10:
        bot =  random.choice(hands)
        print("Please choose your hand: [hammer, scissor. paper]")
        player = input("your turn: ")
        print("bot: ", bot)

        if (player == "hammer" and bot == "scissor") or \
            (player == "scissor" and bot == "paper") or \
            (player == "paper" and bot == "hammer"):
            print("You Win")
            player_point += 1
        elif player not in hands:
            print("not found.")
        elif (player == bot):
            print("draw")
        else:
            print("You lose")
            bot_point += 1
        game +=1
    print(f"Your score: {player_point}, Bot score: {bot_point}")
    if player_point > bot_point:
        print(f"Congreatuation!! you are the winner.")
    elif player_point == bot_point:
        print("Draw.")
    else:
            print("You lose, try again.")
